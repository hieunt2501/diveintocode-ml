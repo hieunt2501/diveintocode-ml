{
 "cells": [
  {
   "cell_type": "markdown",
   "metadata": {},
   "source": [
    "[Problem 1] Number of wheat on 2 x 2 square chess board"
   ]
  },
  {
   "cell_type": "code",
   "execution_count": 1,
   "metadata": {},
   "outputs": [
    {
     "name": "stdout",
     "output_type": "stream",
     "text": [
      "Arrange wheat on a 2 x 2 chess board：\n",
      "[[1 2]\n",
      " [4 8]]\n"
     ]
    }
   ],
   "source": [
    "import numpy as np\n",
    "import matplotlib.pyplot as plt\n",
    "\n",
    "n_squares = 4\n",
    "small_board_list = [1]\n",
    "for _ in range(n_squares - 1):\n",
    "    small_board_list.append(2*small_board_list[-1])\n",
    "\n",
    "small_board_ndarray = np.array(small_board_list).reshape(2, 2)    \n",
    "print(\"Arrange wheat on a 2 x 2 chess board：\\n{}\".format(small_board_ndarray))"
   ]
  },
  {
   "cell_type": "markdown",
   "metadata": {},
   "source": [
    "[Problem 2] Expansion to n x m mass"
   ]
  },
  {
   "cell_type": "code",
   "execution_count": 2,
   "metadata": {},
   "outputs": [
    {
     "name": "stdout",
     "output_type": "stream",
     "text": [
      "Arrange wheat on a 8 x 8  chess board：\n",
      "[[                  1                   2                   4\n",
      "                    8                  16                  32\n",
      "                   64                 128]\n",
      " [                256                 512                1024\n",
      "                 2048                4096                8192\n",
      "                16384               32768]\n",
      " [              65536              131072              262144\n",
      "               524288             1048576             2097152\n",
      "              4194304             8388608]\n",
      " [           16777216            33554432            67108864\n",
      "            134217728           268435456           536870912\n",
      "           1073741824          2147483648]\n",
      " [         4294967296          8589934592         17179869184\n",
      "          34359738368         68719476736        137438953472\n",
      "         274877906944        549755813888]\n",
      " [      1099511627776       2199023255552       4398046511104\n",
      "        8796093022208      17592186044416      35184372088832\n",
      "       70368744177664     140737488355328]\n",
      " [    281474976710656     562949953421312    1125899906842624\n",
      "     2251799813685248    4503599627370496    9007199254740992\n",
      "    18014398509481984   36028797018963968]\n",
      " [  72057594037927936  144115188075855872  288230376151711744\n",
      "   576460752303423488 1152921504606846976 2305843009213693952\n",
      "  4611686018427387904 9223372036854775808]]\n"
     ]
    }
   ],
   "source": [
    "def calWheatOnChessboard(n, m):\n",
    "    \"\"\"\n",
    "    Calculate number of wheat on an n x m chessboard.    \n",
    "    --------------    \n",
    "    Parameters:\n",
    "    n: int\n",
    "        Number of rows on chessboard\n",
    "    m: int\n",
    "        Number of columns on chessboard        \n",
    "    --------------\n",
    "    Return:\n",
    "        Number of wheats on chessboard\n",
    "    \"\"\"\n",
    "    tmp = [1]\n",
    "    for _ in range(n * m - 1):\n",
    "        tmp.append(tmp[-1] * 2)            \n",
    "    board = np.array(tmp, dtype = np.uint64).reshape(n, m)\n",
    "    return board\n",
    "\n",
    "board = calWheatOnChessboard(8, 8)\n",
    "print(\"Arrange wheat on a 8 x 8  chess board：\\n{}\".format(board))"
   ]
  },
  {
   "cell_type": "markdown",
   "metadata": {},
   "source": [
    "[Problem 3] Total number of wheat"
   ]
  },
  {
   "cell_type": "code",
   "execution_count": 3,
   "metadata": {},
   "outputs": [
    {
     "name": "stdout",
     "output_type": "stream",
     "text": [
      "Total number of wheat: 18446744073709551615\n"
     ]
    },
    {
     "data": {
      "image/png": "[encoded data removed]",
      "text/plain": [
       "<Figure size 432x288 with 1 Axes>"
      ]
     },
     "metadata": {
      "needs_background": "light"
     },
     "output_type": "display_data"
    }
   ],
   "source": [
    "wheat_sum = np.sum(board)\n",
    "print(\"Total number of wheat: {}\".format(wheat_sum))\n",
    "\n",
    "wheat_average = np.mean(board, axis=0, dtype= np.float64)\n",
    "\n",
    "%matplotlib inline      \n",
    "plt.xlabel(\"column\")\n",
    "plt.ylabel(\"number\")\n",
    "plt.title(\"number in each column\")\n",
    "plt.bar(np.arange(1, wheat_average.size + 1), wheat_average)\n",
    "plt.show()"
   ]
  },
  {
   "cell_type": "markdown",
   "metadata": {},
   "source": [
    "[Problem 4] Heat map of the number of wheat"
   ]
  },
  {
   "cell_type": "code",
   "execution_count": 4,
   "metadata": {},
   "outputs": [
    {
     "data": {
      "image/png": "[encoded data removed]",
      "text/plain": [
       "<Figure size 432x288 with 1 Axes>"
      ]
     },
     "metadata": {
      "needs_background": "light"
     },
     "output_type": "display_data"
    }
   ],
   "source": [
    "plt.xlabel(\"column\")\n",
    "plt.ylabel(\"row\")\n",
    "plt.title(\"Heatmap of chessboard\")\n",
    "plt.pcolor(board)\n",
    "plt.show()"
   ]
  },
  {
   "cell_type": "markdown",
   "metadata": {},
   "source": [
    "[Problem 5] How many times is the second half as long as the first half"
   ]
  },
  {
   "cell_type": "code",
   "execution_count": 5,
   "metadata": {},
   "outputs": [
    {
     "name": "stdout",
     "output_type": "stream",
     "text": [
      "The second half is greater than 4294967296.0 times that of first half.\n"
     ]
    }
   ],
   "source": [
    "first_half = np.sum(board[0:3])\n",
    "second_half = np.sum(board[4:7])\n",
    "print(\"The second half is greater than {} times that of first half.\".format(second_half / first_half))\n"
   ]
  },
  {
   "cell_type": "markdown",
   "metadata": {},
   "source": [
    "[Problem 6] Expansion to n x m mass by another calculation method"
   ]
  },
  {
   "cell_type": "code",
   "execution_count": 6,
   "metadata": {},
   "outputs": [
    {
     "name": "stdout",
     "output_type": "stream",
     "text": [
      "Arrange wheat on a 8 x 8  chess board：\n",
      "[[                  1                   2                   4\n",
      "                    8                  16                  32\n",
      "                   64                 128]\n",
      " [                256                 512                1024\n",
      "                 2048                4096                8192\n",
      "                16384               32768]\n",
      " [              65536              131072              262144\n",
      "               524288             1048576             2097152\n",
      "              4194304             8388608]\n",
      " [           16777216            33554432            67108864\n",
      "            134217728           268435456           536870912\n",
      "           1073741824          2147483648]\n",
      " [         4294967296          8589934592         17179869184\n",
      "          34359738368         68719476736        137438953472\n",
      "         274877906944        549755813888]\n",
      " [      1099511627776       2199023255552       4398046511104\n",
      "        8796093022208      17592186044416      35184372088832\n",
      "       70368744177664     140737488355328]\n",
      " [    281474976710656     562949953421312    1125899906842624\n",
      "     2251799813685248    4503599627370496    9007199254740992\n",
      "    18014398509481984   36028797018963968]\n",
      " [  72057594037927936  144115188075855872  288230376151711744\n",
      "   576460752303423488 1152921504606846976 2305843009213693952\n",
      "  4611686018427387904 9223372036854775808]]\n",
      "\n",
      "Arrange wheat on a 8 x 8  chess board：\n",
      "[[                  1                   2                   4\n",
      "                    8                  16                  32\n",
      "                   64                 128]\n",
      " [                256                 512                1024\n",
      "                 2048                4096                8192\n",
      "                16384               32768]\n",
      " [              65536              131072              262144\n",
      "               524288             1048576             2097152\n",
      "              4194304             8388608]\n",
      " [           16777216            33554432            67108864\n",
      "            134217728           268435456           536870912\n",
      "           1073741824          2147483648]\n",
      " [         4294967296          8589934592         17179869184\n",
      "          34359738368         68719476736        137438953472\n",
      "         274877906944        549755813888]\n",
      " [      1099511627776       2199023255552       4398046511104\n",
      "        8796093022208      17592186044416      35184372088832\n",
      "       70368744177664     140737488355328]\n",
      " [    281474976710656     562949953421312    1125899906842624\n",
      "     2251799813685248    4503599627370496    9007199254740992\n",
      "    18014398509481984   36028797018963968]\n",
      " [  72057594037927936  144115188075855872  288230376151711744\n",
      "   576460752303423488 1152921504606846976 2305843009213693952\n",
      "  4611686018427387904 9223372036854775808]]\n"
     ]
    }
   ],
   "source": [
    "def calWheatOnChessboardAppend(n, m):\n",
    "    \"\"\"\n",
    "    Calculate number of wheat on an n x m chessboard.    \n",
    "    --------------    \n",
    "    Parameters:\n",
    "    n: int\n",
    "        Number of rows on chessboard\n",
    "    m: int\n",
    "        Number of columns on chessboard        \n",
    "    --------------\n",
    "    Return:\n",
    "        Number of wheats on chessboard\n",
    "    \"\"\"\n",
    "    board = np.array([1])\n",
    "    for _ in range(n * m - 1):\n",
    "        board = np.append(board, board[-1] * 2).astype(np.uint64)    \n",
    "    return board.reshape(n, m)\n",
    "\n",
    "def calWheatOnChessboardBroadcast(n, m):\n",
    "    \"\"\"\n",
    "    Calculate number of wheat on an n x m chessboard.    \n",
    "    --------------    \n",
    "    Parameters:\n",
    "    n: int\n",
    "        Number of rows on chessboard\n",
    "    m: int\n",
    "        Number of columns on chessboard        \n",
    "    --------------\n",
    "    Return:\n",
    "        Number of wheats on chessboard\n",
    "    \"\"\"\n",
    "    board = 2 ** np.arange(n * m, dtype = np.uint64)\n",
    "    return board.reshape(n, m)\n",
    "\n",
    "new_board = calWheatOnChessboardAppend(8, 8)\n",
    "print(\"Arrange wheat on a 8 x 8  chess board：\\n{}\\n\".format(new_board))\n",
    "\n",
    "new_board = calWheatOnChessboardBroadcast(8, 8)\n",
    "print(\"Arrange wheat on a 8 x 8  chess board：\\n{}\".format(new_board))"
   ]
  },
  {
   "cell_type": "markdown",
   "metadata": {},
   "source": [
    "[Problem 7] Comparing calculation times"
   ]
  },
  {
   "cell_type": "code",
   "execution_count": 7,
   "metadata": {},
   "outputs": [
    {
     "name": "stdout",
     "output_type": "stream",
     "text": [
      "59.5 µs ± 17.4 µs per loop (mean ± std. dev. of 7 runs, 10000 loops each)\n"
     ]
    }
   ],
   "source": [
    "%%timeit\n",
    "board1 = calWheatOnChessboard(8, 8)"
   ]
  },
  {
   "cell_type": "code",
   "execution_count": 8,
   "metadata": {},
   "outputs": [
    {
     "name": "stdout",
     "output_type": "stream",
     "text": [
      "2.72 ms ± 826 µs per loop (mean ± std. dev. of 7 runs, 100 loops each)\n"
     ]
    }
   ],
   "source": [
    "%%timeit\n",
    "board2 = calWheatOnChessboardAppend(8, 8)"
   ]
  },
  {
   "cell_type": "code",
   "execution_count": 9,
   "metadata": {},
   "outputs": [
    {
     "name": "stdout",
     "output_type": "stream",
     "text": [
      "13.7 µs ± 3.01 µs per loop (mean ± std. dev. of 7 runs, 10000 loops each)\n"
     ]
    }
   ],
   "source": [
    "%%timeit\n",
    "board3 = calWheatOnChessboardBroadcast(8, 8)"
   ]
  },
  {
   "cell_type": "markdown",
   "metadata": {},
   "source": [
    "Using broadcast approach is the fastest, next is the array creation from python list, and the slowest is the one using append approach."
   ]
  }
 ],
 "metadata": {
  "kernelspec": {
   "display_name": "Python 3",
   "language": "python",
   "name": "python3"
  },
  "language_info": {
   "codemirror_mode": {
    "name": "ipython",
    "version": 3
   },
   "file_extension": ".py",
   "mimetype": "text/x-python",
   "name": "python",
   "nbconvert_exporter": "python",
   "pygments_lexer": "ipython3",
   "version": "3.7.6"
  }
 },
 "nbformat": 4,
 "nbformat_minor": 4
}
