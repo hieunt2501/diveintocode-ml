{
 "cells": [
  {
   "cell_type": "code",
   "execution_count": 1,
   "metadata": {},
   "outputs": [],
   "source": [
    "import numpy as np\n",
    "a_ndarray = np.array([[-1, 2, 3], [4, -5, 6], [7, 8, -9]])\n",
    "b_ndarray = np.array([[0, 2, 1], [0, 2, -8], [2, 9, -1]])"
   ]
  },
  {
   "cell_type": "markdown",
   "metadata": {},
   "source": [
    "[Problem 1] Matrix product is calculated manually"
   ]
  },
  {
   "cell_type": "markdown",
   "metadata": {},
   "source": [
    "C = A . B <br>\n",
    "$C_{11}$ = (-1) * 0 + 2 * 0 + 3 * 2 = 6 <br>\n",
    "$C_{12}$ = (-1) * 2 + 2 * 2 + 3 * 9 = 29 <br>\n",
    "$C_{13}$ = (-1) * 1 + 2 * (-8) + 3 * -1 = -20 <br>\n",
    "\n",
    "$C_{21}$ = 4 * 0 - 5 * 0 + 6 * 2 = 12 <br>\n",
    "$C_{22}$ = 4 * 2 - 5 * 2 + 6 * 9 = 52 <br>\n",
    "$C_{23}$ = 4 * 1 - 5 * (-8) + 6 * -1 = 38 <br>\n",
    "\n",
    "$C_{31}$ = 7 * 0 + 8 * 0 - 9 * 2 = -18 <br>\n",
    "$C_{32}$ = 7 * 2 + 8 * 2 - 9 * 9 = -51 <br>\n",
    "$C_{33}$ = 7 * 1 + 8 * (-8) - 9 * (-1) = -48 <br>\n",
    "\n",
    "==> C = [[6, 29, -20], [12, 52, 38], [-18, -51, -48]]        "
   ]
  },
  {
   "cell_type": "markdown",
   "metadata": {},
   "source": [
    "[Problem 2] Calculation by Numpy function"
   ]
  },
  {
   "cell_type": "code",
   "execution_count": 2,
   "metadata": {},
   "outputs": [
    {
     "name": "stdout",
     "output_type": "stream",
     "text": [
      "[[  6  29 -20]\n",
      " [ 12  52  38]\n",
      " [-18 -51 -48]]\n"
     ]
    }
   ],
   "source": [
    "c = np.matmul(a_ndarray, b_ndarray)\n",
    "print(c)"
   ]
  },
  {
   "cell_type": "markdown",
   "metadata": {},
   "source": [
    "[Problem 3] Implementation of calculation of a certain element"
   ]
  },
  {
   "cell_type": "code",
   "execution_count": 3,
   "metadata": {},
   "outputs": [
    {
     "name": "stdout",
     "output_type": "stream",
     "text": [
      "6\n"
     ]
    }
   ],
   "source": [
    "total = np.sum(a_ndarray[0, :] * b_ndarray[:, 0])\n",
    "print(total)"
   ]
  },
  {
   "cell_type": "markdown",
   "metadata": {},
   "source": [
    "[Problem 4 & 5] Creating a function that performs matrix multiplication and judge the input whose calculation is not defined"
   ]
  },
  {
   "cell_type": "code",
   "execution_count": 4,
   "metadata": {},
   "outputs": [
    {
     "name": "stdout",
     "output_type": "stream",
     "text": [
      "[[  6  29 -20]\n",
      " [ 12  52  38]\n",
      " [-18 -51 -48]]\n",
      "Number of columns of matrix a and number of rows of matrix b are not the same!\n"
     ]
    }
   ],
   "source": [
    "def dotProduct(a, b):\n",
    "    \"\"\"\n",
    "    calculate dot product of two matrices\n",
    "    ------------\n",
    "    Parameters\n",
    "    a, b: matrix\n",
    "    ------------\n",
    "    Return\n",
    "    Production matrix from a and b    \n",
    "    \"\"\"\n",
    "    if a.shape[1] != b.shape[0]:\n",
    "        print(\"Number of columns of matrix a and number of rows of matrix b are not the same!\")        \n",
    "    else:\n",
    "        result = []\n",
    "        for i in range(a.shape[0]):\n",
    "            for j in range(b.shape[1]):\n",
    "                result.append(np.sum(a[i, :] * b[:, j]))                \n",
    "        result = np.array(result).reshape(a.shape[0], b.shape[1])\n",
    "        return result\n",
    "\n",
    "tmp = dotProduct(a_ndarray, b_ndarray)\n",
    "print(tmp)\n",
    "#--------------------------------------\n",
    "d_ndarray_ = np.array([[-1, 2, 3], [4, -5, 6]])\n",
    "e_ndarray = np.array([[-9, 8, 7], [6, -5, 4]])\n",
    "tmp = dotProduct(d_ndarray_, e_ndarray)"
   ]
  },
  {
   "cell_type": "markdown",
   "metadata": {},
   "source": [
    "[Problem 6] Tranposition"
   ]
  },
  {
   "cell_type": "code",
   "execution_count": 5,
   "metadata": {},
   "outputs": [
    {
     "name": "stdout",
     "output_type": "stream",
     "text": [
      "[[ 46  -4]\n",
      " [-34  73]]\n"
     ]
    }
   ],
   "source": [
    "tmp = dotProduct(d_ndarray_, e_ndarray.T)\n",
    "print(tmp)"
   ]
  }
 ],
 "metadata": {
  "kernelspec": {
   "display_name": "Python 3",
   "language": "python",
   "name": "python3"
  },
  "language_info": {
   "codemirror_mode": {
    "name": "ipython",
    "version": 3
   },
   "file_extension": ".py",
   "mimetype": "text/x-python",
   "name": "python",
   "nbconvert_exporter": "python",
   "pygments_lexer": "ipython3",
   "version": "3.7.6"
  }
 },
 "nbformat": 4,
 "nbformat_minor": 4
}
