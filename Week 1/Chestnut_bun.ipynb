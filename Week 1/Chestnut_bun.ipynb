{
 "cells": [
  {
   "cell_type": "markdown",
   "metadata": {},
   "source": [
    "[Problem] The day when chestnut buns cover the solar system"
   ]
  },
  {
   "cell_type": "code",
   "execution_count": 1,
   "metadata": {},
   "outputs": [
    {
     "name": "stdout",
     "output_type": "stream",
     "text": [
      "It takes  0.52 days for the dorayaki cover Solar system.\n"
     ]
    }
   ],
   "source": [
    "from math import *\n",
    "\n",
    "# in kilometers\n",
    "DORAYAKI_RADIUS = 0.00015 \n",
    "SOLAR_DIAMETER = 287.46 * 10 ** 9 \n",
    "\n",
    "def calVol(r):\n",
    "    \"\"\"\n",
    "    Calculate volume of object.\n",
    "    -----------------------\n",
    "    Parameters\n",
    "    r: int/float\n",
    "        Radius of object\n",
    "    -----------------------\n",
    "    Return\n",
    "        Volume of object\n",
    "    \"\"\"\n",
    "    return 4 / 3 * pi * r ** 3\n",
    "\n",
    "def calVolTilCover(d):\n",
    "    \"\"\"\n",
    "    Calculate time when chestnut bun volume cover something.\n",
    "    ------------------------\n",
    "    Parameters:\n",
    "    d: int\n",
    "        Diameter of some sphere object\n",
    "    ------------------------\n",
    "    Return\n",
    "        Time in minutes till the chestnut bun cover that sphere\n",
    "    \"\"\"\n",
    "    objVol = calVol(d / 2)\n",
    "    bunVol = calVol(DORAYAKI_RADIUS)\n",
    "    \n",
    "    sumTime = 0\n",
    "    while bunVol < objVol:\n",
    "        bunVol *= 2\n",
    "        sumTime += 5\n",
    "    \n",
    "    return sumTime / 60 / 24\n",
    "\n",
    "days = calVolTilCover(SOLAR_DIAMETER)\n",
    "print(\"It takes {: .2f} days for the dorayaki cover {}.\".format(days, \"Solar system\"))    "
   ]
  }
 ],
 "metadata": {
  "kernelspec": {
   "display_name": "Python 3",
   "language": "python",
   "name": "python3"
  },
  "language_info": {
   "codemirror_mode": {
    "name": "ipython",
    "version": 3
   },
   "file_extension": ".py",
   "mimetype": "text/x-python",
   "name": "python",
   "nbconvert_exporter": "python",
   "pygments_lexer": "ipython3",
   "version": "3.7.6"
  }
 },
 "nbformat": 4,
 "nbformat_minor": 4
}
