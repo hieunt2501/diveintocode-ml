{
 "cells": [
  {
   "cell_type": "markdown",
   "metadata": {},
   "source": [
    "This is an assignment for solving how many diffractions will cross Mt. Fuji problem from Dive Into Code Machine Learning course"
   ]
  },
  {
   "cell_type": "code",
   "execution_count": 1,
   "metadata": {},
   "outputs": [],
   "source": [
    "from math import *\n",
    "from functools import reduce\n",
    "import numpy as np\n",
    "import matplotlib.pyplot as plt\n",
    "\n",
    "# Constant declaration\n",
    "PAPER_THICKNESS = 0.00008\n",
    "MT_FUJI_HEIGHT = 3776\n",
    "PROXIMA_CENTAURI_DISTANCE = 40208 * 10 ** 12\n",
    "MOON_DISTANCE = 384400 * 10**3\n",
    "\n",
    "# Functions\n",
    "def calFoldedTimeTilCrossSomething(thickness, distance):\n",
    "    \"\"\"\n",
    "    A function that calculate folded times of some object after have been folded to the extend where its thickness cross something.\n",
    "    Parameteres\n",
    "    --------------\n",
    "    thickness: int\n",
    "        Thickness of object\n",
    "    distance: int\n",
    "        Distance/Height from something\n",
    "    Returns\n",
    "    --------------\n",
    "    Number of folded times.\n",
    "    \"\"\"       \n",
    "    folded_thickness = thickness\n",
    "    times = 1\n",
    "    while folded_thickness <= distance:        \n",
    "        folded_thickness = folded_thickness * 2        \n",
    "        times += 1\n",
    "    return times\n",
    "\n",
    "def printRes(objNm1, thickness1, objNm2, thickness2, foldTimes, objLength1):\n",
    "    print(\"\"\"Number of times to fold a {} with thickness of {} so that it could cross {} with the distance of {} km is: {} \n",
    "        \"\"\".format(objNm1, thickness1, objNm2, thickness2, fold_num))\n",
    "    print(\"\"\"{} length is: {} m.\"\"\".format(objNm1, objLength1))\n",
    "    \n",
    "def lengthOfPaper(folded_times, thickness):\n",
    "    \"\"\"\n",
    "    A function that calculate length of paper after some folded times\n",
    "    Parameteres\n",
    "    --------------\n",
    "    folded_times: int\n",
    "        Number of folded times    \n",
    "    thickness: int\n",
    "        Thickness of object\n",
    "    Returns\n",
    "    --------------\n",
    "    Length of paper\n",
    "    \"\"\"    \n",
    "    return pi*thickness*(2**folded_times + 4)*(2**folded_times - 1)/6    "
   ]
  },
  {
   "cell_type": "markdown",
   "metadata": {},
   "source": [
    "Number of folded times and length of paper to cross Mt. Fuji."
   ]
  },
  {
   "cell_type": "code",
   "execution_count": 2,
   "metadata": {},
   "outputs": [
    {
     "name": "stdout",
     "output_type": "stream",
     "text": [
      "Number of times to fold a Paper with thickness of 8e-05 so that it could cross MT. Fuji with the distance of 3.776 km is: 27 \n",
      "        \n",
      "Paper length is: 754585377082.664 m.\n"
     ]
    }
   ],
   "source": [
    "fold_num = calFoldedTimeTilCrossSomething(PAPER_THICKNESS, MT_FUJI_HEIGHT)\n",
    "paper_length = lengthOfPaper(fold_num, PAPER_THICKNESS)\n",
    "printRes(\"Paper\", PAPER_THICKNESS, \"MT. Fuji\", MT_FUJI_HEIGHT/(10**3), fold_num, paper_length)"
   ]
  },
  {
   "cell_type": "markdown",
   "metadata": {},
   "source": [
    "Number of folded times and length of paper to cross Proxima Centauri star (closest non-Sun star)."
   ]
  },
  {
   "cell_type": "code",
   "execution_count": 3,
   "metadata": {},
   "outputs": [
    {
     "name": "stdout",
     "output_type": "stream",
     "text": [
      "Number of times to fold a Paper with thickness of 8e-05 so that it could cross Proxima Centauri star with the distance of 40208000000000.0 km is: 70 \n",
      "        \n",
      "Paper length is: 5.838321440440139e+37 m.\n"
     ]
    }
   ],
   "source": [
    "fold_num = calFoldedTimeTilCrossSomething(PAPER_THICKNESS, PROXIMA_CENTAURI_DISTANCE)\n",
    "paper_length = lengthOfPaper(fold_num, PAPER_THICKNESS)\n",
    "printRes(\"Paper\", PAPER_THICKNESS, \"Proxima Centauri star\", PROXIMA_CENTAURI_DISTANCE/(10**3), fold_num, paper_length)"
   ]
  },
  {
   "cell_type": "markdown",
   "metadata": {},
   "source": [
    "Number of folded times and length of paper to cross The Moon."
   ]
  },
  {
   "cell_type": "code",
   "execution_count": 4,
   "metadata": {},
   "outputs": [
    {
     "name": "stdout",
     "output_type": "stream",
     "text": [
      "Number of times to fold a Paper with thickness of 8e-05 so that it could cross The Moon with the distance of 384400.0 km is: 44 \n",
      "        \n",
      "Paper length is: 1.2963677776680912e+22 m.\n"
     ]
    }
   ],
   "source": [
    "fold_num = calFoldedTimeTilCrossSomething(PAPER_THICKNESS, MOON_DISTANCE)\n",
    "paper_length = lengthOfPaper(fold_num, PAPER_THICKNESS)\n",
    "printRes(\"Paper\", PAPER_THICKNESS, \"The Moon\", MOON_DISTANCE/(10**3), fold_num, paper_length)"
   ]
  }
 ],
 "metadata": {
  "kernelspec": {
   "display_name": "Python 3",
   "language": "python",
   "name": "python3"
  },
  "language_info": {
   "codemirror_mode": {
    "name": "ipython",
    "version": 3
   },
   "file_extension": ".py",
   "mimetype": "text/x-python",
   "name": "python",
   "nbconvert_exporter": "python",
   "pygments_lexer": "ipython3",
   "version": "3.7.6"
  }
 },
 "nbformat": 4,
 "nbformat_minor": 4
}
